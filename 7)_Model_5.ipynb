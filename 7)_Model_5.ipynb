{
 "cells": [
  {
   "cell_type": "markdown",
   "id": "6d10296b-64b2-4915-be40-659bd37d42bb",
   "metadata": {},
   "source": [
    "# **7) Model 5**"
   ]
  },
  {
   "cell_type": "code",
   "execution_count": 1,
   "id": "afcbdbe8-b8c3-4f8a-805e-6a9264aa34ec",
   "metadata": {},
   "outputs": [
    {
     "name": "stderr",
     "output_type": "stream",
     "text": [
      "Matplotlib created a temporary cache directory at /scratch/msawires1/job_40118173/matplotlib-acpdihs1 because the default path (/home/jovyan/.cache/matplotlib) is not a writable directory; it is highly recommended to set the MPLCONFIGDIR environment variable to a writable directory, in particular to speed up the import of Matplotlib and to better support multiprocessing.\n"
     ]
    }
   ],
   "source": [
    "import os\n",
    "import csv\n",
    "import pickle\n",
    "\n",
    "import numpy as np\n",
    "import pandas as pd\n",
    "import matplotlib.pyplot as plt\n",
    "import seaborn as sns\n",
    "from scipy.stats import mode\n",
    "\n",
    "from pyspark.sql import SparkSession, Row\n",
    "from pyspark.sql.functions import col, lit, pandas_udf\n",
    "from pyspark.sql.functions import pandas_udf, PandasUDFType\n",
    "from pyspark.sql.types import StructType, StructField, StringType, IntegerType, FloatType\n",
    "\n",
    "from pyspark.ml.classification import DecisionTreeClassifier\n",
    "from pyspark.ml.feature import VectorAssembler\n",
    "from pyspark.ml.evaluation import MulticlassClassificationEvaluator\n",
    "\n",
    "from sklearn.ensemble import RandomForestClassifier\n",
    "from sklearn.model_selection import train_test_split\n",
    "from sklearn.metrics import classification_report, confusion_matrix"
   ]
  },
  {
   "cell_type": "markdown",
   "id": "8ca5b2bb-af25-4e52-8468-9382b57f632d",
   "metadata": {},
   "source": [
    "### Preprocessing for #5:"
   ]
  },
  {
   "cell_type": "code",
   "execution_count": 2,
   "id": "9a393f8c-0781-4f77-b12d-d3ad37c817ba",
   "metadata": {},
   "outputs": [],
   "source": [
    "base_path = '../ialtamirano/raw_data/WESAD'"
   ]
  },
  {
   "cell_type": "code",
   "execution_count": 23,
   "id": "2fff5830-7178-4a88-9c9f-b83b5a97c6be",
   "metadata": {},
   "outputs": [
    {
     "name": "stdout",
     "output_type": "stream",
     "text": [
      "### Personal information ###\n",
      "Age: 28\n",
      "Height (cm): 178\n",
      "Weight (kg): 76\n",
      "Gender: male\n",
      "Dominant hand: right\n",
      "\n",
      "### Study pre-requisites ###\n",
      "Did you drink coffee today? NO\n",
      "Did you drink coffee within the last hour? NO\n",
      "Did you do any sports today? NO\n",
      "Are you a smoker? NO\n",
      "Did you smoke within the last hour? NO\n",
      "Do you feel ill today? NO\n",
      "\n",
      "### Additional notes ###\n",
      "-\n",
      "\n"
     ]
    }
   ],
   "source": [
    "# survey for S10\n",
    "subject_id = 'S10'\n",
    "readme_path = os.path.join(base_path, subject_id, f'{subject_id}_readme.txt')\n",
    "\n",
    "with open(readme_path, 'r') as f:\n",
    "    content = f.read()\n",
    "    print(content)\n"
   ]
  },
  {
   "cell_type": "code",
   "execution_count": 24,
   "id": "000e2d3c-e255-46e6-9dff-97dc5609e6c6",
   "metadata": {},
   "outputs": [
    {
     "name": "stdout",
     "output_type": "stream",
     "text": [
      "{'S14': {'age': 27, 'height (cm)': 180, 'weight (kg)': 80, 'gender_male': 1, 'gender_female': 0, 'dominant_right': 1, 'dominant_left': 0, 'coffee_today': 0, 'coffee_last_hour': 0, 'sports_today': 0, 'smoker': 0, 'smoked_last_hour': 0, 'ill_today': 0}, 'S7': {'age': 28, 'height (cm)': 184, 'weight (kg)': 74, 'gender_male': 1, 'gender_female': 0, 'dominant_right': 1, 'dominant_left': 0, 'coffee_today': 0, 'coffee_last_hour': 0, 'sports_today': 1, 'smoker': 0, 'smoked_last_hour': 0, 'ill_today': 0}, 'S13': {'age': 28, 'height (cm)': 181, 'weight (kg)': 82, 'gender_male': 1, 'gender_female': 0, 'dominant_right': 1, 'dominant_left': 0, 'coffee_today': 0, 'coffee_last_hour': 0, 'sports_today': 0, 'smoker': 0, 'smoked_last_hour': 0, 'ill_today': 0}, 'S3': {'age': 27, 'height (cm)': 173, 'weight (kg)': 69, 'gender_male': 1, 'gender_female': 0, 'dominant_right': 1, 'dominant_left': 0, 'coffee_today': 0, 'coffee_last_hour': 0, 'sports_today': 0, 'smoker': 0, 'smoked_last_hour': 0, 'ill_today': 0}, 'S9': {'age': 26, 'height (cm)': 181, 'weight (kg)': 75, 'gender_male': 1, 'gender_female': 0, 'dominant_right': 1, 'dominant_left': 0, 'coffee_today': 0, 'coffee_last_hour': 0, 'sports_today': 0, 'smoker': 0, 'smoked_last_hour': 0, 'ill_today': 1}, 'S17': {'age': 29, 'height (cm)': 165, 'weight (kg)': 55, 'gender_male': 0, 'gender_female': 1, 'dominant_right': 1, 'dominant_left': 0, 'coffee_today': 0, 'coffee_last_hour': 0, 'sports_today': 0, 'smoker': 0, 'smoked_last_hour': 0, 'ill_today': 0}, 'S10': {'age': 28, 'height (cm)': 178, 'weight (kg)': 76, 'gender_male': 1, 'gender_female': 0, 'dominant_right': 1, 'dominant_left': 0, 'coffee_today': 0, 'coffee_last_hour': 0, 'sports_today': 0, 'smoker': 0, 'smoked_last_hour': 0, 'ill_today': 0}, 'S4': {'age': 25, 'height (cm)': 175, 'weight (kg)': 90, 'gender_male': 1, 'gender_female': 0, 'dominant_right': 1, 'dominant_left': 0, 'coffee_today': 0, 'coffee_last_hour': 0, 'sports_today': 0, 'smoker': 0, 'smoked_last_hour': 0, 'ill_today': 0}, 'S6': {'age': 27, 'height (cm)': 170, 'weight (kg)': 66, 'gender_male': 1, 'gender_female': 0, 'dominant_right': 1, 'dominant_left': 0, 'coffee_today': 1, 'coffee_last_hour': 0, 'sports_today': 0, 'smoker': 1, 'smoked_last_hour': 0, 'ill_today': 0}, 'S15': {'age': 28, 'height (cm)': 186, 'weight (kg)': 83, 'gender_male': 1, 'gender_female': 0, 'dominant_right': 1, 'dominant_left': 0, 'coffee_today': 0, 'coffee_last_hour': 0, 'sports_today': 0, 'smoker': 0, 'smoked_last_hour': 0, 'ill_today': 0}, 'S11': {'age': 26, 'height (cm)': 171, 'weight (kg)': 54, 'gender_male': 0, 'gender_female': 1, 'dominant_right': 1, 'dominant_left': 0, 'coffee_today': 1, 'coffee_last_hour': 0, 'sports_today': 0, 'smoker': 0, 'smoked_last_hour': 0, 'ill_today': 0}, 'S5': {'age': 35, 'height (cm)': 189, 'weight (kg)': 80, 'gender_male': 1, 'gender_female': 0, 'dominant_right': 1, 'dominant_left': 0, 'coffee_today': 1, 'coffee_last_hour': 0, 'sports_today': 0, 'smoker': 0, 'smoked_last_hour': 0, 'ill_today': 0}, 'S8': {'age': 27, 'height (cm)': 172, 'weight (kg)': 64, 'gender_male': 0, 'gender_female': 1, 'dominant_right': 0, 'dominant_left': 1, 'coffee_today': 1, 'coffee_last_hour': 0, 'sports_today': 1, 'smoker': 0, 'smoked_last_hour': 0, 'ill_today': 0}, 'S2': {'age': 27, 'height (cm)': 175, 'weight (kg)': 80, 'gender_male': 1, 'gender_female': 0, 'dominant_right': 1, 'dominant_left': 0, 'coffee_today': 0, 'coffee_last_hour': 0, 'sports_today': 0, 'smoker': 0, 'smoked_last_hour': 0, 'ill_today': 0}, 'S16': {'age': 24, 'height (cm)': 184, 'weight (kg)': 69, 'gender_male': 1, 'gender_female': 0, 'dominant_right': 1, 'dominant_left': 0, 'coffee_today': 0, 'coffee_last_hour': 0, 'sports_today': 0, 'smoker': 0, 'smoked_last_hour': 0, 'ill_today': 0}}\n"
     ]
    }
   ],
   "source": [
    "# creating subject survey dictionary \n",
    "# gather all subjects \n",
    "exclude_subjects = {'S1', 'S12'}\n",
    "\n",
    "all_fields = ['age', 'height (cm)', 'weight (kg)', 'gender_male',\n",
    "              'gender_female', 'dominant_right', 'dominant_left',\n",
    "              'coffee_today', 'coffee_last_hour', 'sports_today',\n",
    "              'smoker', 'smoked_last_hour', 'ill_today']\n",
    "\n",
    "\n",
    "                    \n",
    "subject_folders = [folder for folder in os.listdir(base_path)\n",
    "                   if folder.startswith('S') and \n",
    "                   os.path.isdir(os.path.join(base_path, folder)) \n",
    "                   and folder not in exclude_subjects]\n",
    "\n",
    "subject_survey = {}\n",
    "\n",
    "# access each subject readme.txt\n",
    "for subject in subject_folders:\n",
    "    subject_path = os.path.join(base_path, subject)\n",
    "    readme_files = [file for file in os.listdir(subject_path) \n",
    "                    if file.lower().endswith('_readme.txt')]\n",
    "    if not readme_files:\n",
    "        print(f'No readme file founbd in {subject}')\n",
    "        continue \n",
    "    readme_path = os.path.join(subject_path, readme_files[0])\n",
    "\n",
    "# parse, encode, and store subject survey responses from README file into survey dictionary \n",
    "    survey = {}\n",
    "    with open(readme_path, 'r') as f:\n",
    "        for line in f:\n",
    "            line = line.strip()\n",
    "            if not line:\n",
    "                continue\n",
    "            if ':' in line:\n",
    "                key, value = line.split(':', 1)\n",
    "            elif '?' in line:\n",
    "                key, value = line.rsplit(\"?\", 1)\n",
    "                key = key + '?'\n",
    "            else:\n",
    "                continue\n",
    "            key = key.strip().lower()\n",
    "            value = value.strip().lower()\n",
    "            if key == 'age':\n",
    "                survey['age'] = int(value) if value.isdigit() else None\n",
    "            elif key == 'height (cm)':\n",
    "                survey['height (cm)'] = int(value) if value.isdigit() else None\n",
    "            elif key == 'weight (kg)':\n",
    "                survey['weight (kg)'] = int(value) if value.isdigit() else None\n",
    "            elif key == 'gender':\n",
    "                survey['gender_male'] = 1 if value == 'male' else 0 \n",
    "                survey['gender_female'] = 1 if value =='female' else 0 \n",
    "            elif key == 'dominant hand':\n",
    "                survey['dominant_right'] = 1 if value == 'right' else 0\n",
    "                survey['dominant_left'] = 1 if value == 'left' else 0 \n",
    "            elif key == 'did you drink coffee today?':\n",
    "                survey['coffee_today'] = 1 if value == 'yes' else 0 \n",
    "            elif key == 'did you drink coffee within the last hour?':\n",
    "                survey['coffee_last_hour'] = 1 if value == 'yes' else 0 \n",
    "            elif key == 'did you do any sports today?':\n",
    "                survey['sports_today'] = 1 if value == 'yes' else 0 \n",
    "            elif key == 'are you a smoker?':\n",
    "                survey['smoker'] = 1 if value == 'yes' else 0\n",
    "            elif key == 'did you smoke within the last hour?':\n",
    "                survey['smoked_last_hour'] = 1 if value == 'yes' else 0 \n",
    "            elif key == 'do you feel ill today?':\n",
    "                survey['ill_today'] = 1 if value == 'yes' else 0\n",
    "\n",
    "    for field in all_fields:\n",
    "        if field not in survey:\n",
    "            survey[field] = None\n",
    "    subject_survey[subject] = survey\n",
    "\n",
    "print(subject_survey)\n",
    "        "
   ]
  },
  {
   "cell_type": "code",
   "execution_count": 25,
   "id": "a0826278-88c0-4ef0-801d-e90927e38cf2",
   "metadata": {},
   "outputs": [
    {
     "name": "stdout",
     "output_type": "stream",
     "text": [
      "root\n",
      " |-- subject: string (nullable = false)\n",
      " |-- age: integer (nullable = true)\n",
      " |-- height (cm): integer (nullable = true)\n",
      " |-- weight (kg): integer (nullable = true)\n",
      " |-- gender_male: integer (nullable = true)\n",
      " |-- gender_female: integer (nullable = true)\n",
      " |-- dominant_right: integer (nullable = true)\n",
      " |-- dominant_left: integer (nullable = true)\n",
      " |-- coffee_today: integer (nullable = true)\n",
      " |-- coffee_last_hour: integer (nullable = true)\n",
      " |-- sports_today: integer (nullable = true)\n",
      " |-- smoker: integer (nullable = true)\n",
      " |-- smoked_last_hour: integer (nullable = true)\n",
      " |-- ill_today: integer (nullable = true)\n",
      "\n",
      "+-------+---+-----------+-----------+-----------+-------------+--------------+-------------+------------+----------------+------------+------+----------------+---------+\n",
      "|subject|age|height (cm)|weight (kg)|gender_male|gender_female|dominant_right|dominant_left|coffee_today|coffee_last_hour|sports_today|smoker|smoked_last_hour|ill_today|\n",
      "+-------+---+-----------+-----------+-----------+-------------+--------------+-------------+------------+----------------+------------+------+----------------+---------+\n",
      "|S14    |27 |180        |80         |1          |0            |1             |0            |0           |0               |0           |0     |0               |0        |\n",
      "|S7     |28 |184        |74         |1          |0            |1             |0            |0           |0               |1           |0     |0               |0        |\n",
      "|S13    |28 |181        |82         |1          |0            |1             |0            |0           |0               |0           |0     |0               |0        |\n",
      "|S3     |27 |173        |69         |1          |0            |1             |0            |0           |0               |0           |0     |0               |0        |\n",
      "|S9     |26 |181        |75         |1          |0            |1             |0            |0           |0               |0           |0     |0               |1        |\n",
      "|S17    |29 |165        |55         |0          |1            |1             |0            |0           |0               |0           |0     |0               |0        |\n",
      "|S10    |28 |178        |76         |1          |0            |1             |0            |0           |0               |0           |0     |0               |0        |\n",
      "|S4     |25 |175        |90         |1          |0            |1             |0            |0           |0               |0           |0     |0               |0        |\n",
      "|S6     |27 |170        |66         |1          |0            |1             |0            |1           |0               |0           |1     |0               |0        |\n",
      "|S15    |28 |186        |83         |1          |0            |1             |0            |0           |0               |0           |0     |0               |0        |\n",
      "|S11    |26 |171        |54         |0          |1            |1             |0            |1           |0               |0           |0     |0               |0        |\n",
      "|S5     |35 |189        |80         |1          |0            |1             |0            |1           |0               |0           |0     |0               |0        |\n",
      "|S8     |27 |172        |64         |0          |1            |0             |1            |1           |0               |1           |0     |0               |0        |\n",
      "|S2     |27 |175        |80         |1          |0            |1             |0            |0           |0               |0           |0     |0               |0        |\n",
      "|S16    |24 |184        |69         |1          |0            |1             |0            |0           |0               |0           |0     |0               |0        |\n",
      "+-------+---+-----------+-----------+-----------+-------------+--------------+-------------+------------+----------------+------------+------+----------------+---------+\n",
      "\n"
     ]
    }
   ],
   "source": [
    "# creating a csv in pyspark \n",
    "spark = SparkSession.builder.getOrCreate()\n",
    "\n",
    "all_fields = ['age', 'height (cm)', 'weight (kg)', 'gender_male',\n",
    "              'gender_female', 'dominant_right', 'dominant_left',\n",
    "              'coffee_today', 'coffee_last_hour', 'sports_today',\n",
    "              'smoker', 'smoked_last_hour', 'ill_today']\n",
    "\n",
    "\n",
    "rows = []\n",
    "for subject, survey in subject_survey.items():\n",
    "    row = {'subject': subject}\n",
    "    for col in all_fields:\n",
    "        row[col] = survey.get(col)\n",
    "    rows.append(row)\n",
    "\n",
    "# define scheme explicitly \n",
    "schema = StructType([\n",
    "    StructField('subject', StringType(), False),\n",
    "    StructField('age', IntegerType(), True),\n",
    "    StructField('height (cm)', IntegerType(), True),\n",
    "    StructField('weight (kg)', IntegerType(), True),\n",
    "    StructField('gender_male', IntegerType(), True),\n",
    "    StructField('gender_female', IntegerType(), True),\n",
    "    StructField('dominant_right', IntegerType(), True),\n",
    "    StructField('dominant_left', IntegerType(), True),\n",
    "    StructField('coffee_today', IntegerType(), True),\n",
    "    StructField('coffee_last_hour', IntegerType(), True),\n",
    "    StructField('sports_today', IntegerType(), True),\n",
    "    StructField('smoker', IntegerType(), True),\n",
    "    StructField('smoked_last_hour', IntegerType(), True),\n",
    "    StructField('ill_today', IntegerType(), True)])\n",
    "\n",
    "df = spark.createDataFrame(rows, schema=schema)\n",
    "\n",
    "df.printSchema()\n",
    "df.show(truncate=False)\n",
    "\n",
    "df.coalesce(1).write.csv('wesad_survey.csv', header=True, mode='overwrite')\n",
    "    \n",
    "    \n"
   ]
  },
  {
   "cell_type": "markdown",
   "id": "c35e50d1-f202-4e55-ae6e-96a0221c9ee8",
   "metadata": {},
   "source": [
    "### Combining survey data and final dataframe data"
   ]
  },
  {
   "cell_type": "code",
   "execution_count": 27,
   "id": "56af52ef-adbd-4d67-8319-aaacc382921d",
   "metadata": {},
   "outputs": [],
   "source": [
    "data_dir = 'combined_pkl_csv'\n",
    "chunk_size = 1000\n",
    "\n",
    "modality_files = [\n",
    "    'df_chest_acc.csv',\n",
    "    'df_chest_ecg.csv',\n",
    "    'df_chest_eda.csv',\n",
    "    'df_chest_emg.csv',\n",
    "    'df_chest_resp.csv',\n",
    "    'df_chest_temp.csv',\n",
    "    'df_wrist_acc.csv',\n",
    "    'df_wrist_bvp.csv',\n",
    "    'df_wrist_eda.csv',\n",
    "    'df_wrist_temp.csv']\n",
    "\n",
    "def chunk_and_compute_stats(df, modality_name, chunk_size=1000):\n",
    "    grouped = df.groupby(\"subject\")\n",
    "    stats_rows = []\n",
    "\n",
    "    for subject, group in grouped:\n",
    "        group = group.sort_values(\"sample\")\n",
    "        signal_values = group.drop(columns=[\"subject\", \"label\", \"sample\"]).values.flatten()\n",
    "        labels = group[\"label\"].values\n",
    "\n",
    "        total_chunks = len(labels) // chunk_size\n",
    "        if total_chunks == 0:\n",
    "            continue\n",
    "\n",
    "        signal_values = signal_values[:total_chunks * chunk_size].reshape(total_chunks, chunk_size)\n",
    "        label_chunks = labels[:total_chunks * chunk_size].reshape(total_chunks, chunk_size)\n",
    "\n",
    "        for i in range(total_chunks):\n",
    "            window = signal_values[i]\n",
    "            majority_label = mode(label_chunks[i], keepdims=False).mode\n",
    "\n",
    "            stats_rows.append({\n",
    "                \"subject\": subject,\n",
    "                \"modality\": modality_name,\n",
    "                \"label\": int(majority_label),\n",
    "                \"mean\": np.mean(window),\n",
    "                \"std\": np.std(window),\n",
    "                \"min\": np.min(window),\n",
    "                \"max\": np.max(window),\n",
    "                \"mode\": float(mode(window, keepdims=False).mode),\n",
    "                \"median\": np.median(window)\n",
    "            })\n",
    "\n",
    "    return pd.DataFrame(stats_rows)\n",
    "\n"
   ]
  },
  {
   "cell_type": "code",
   "execution_count": 28,
   "id": "bcd48712-cf7b-405a-90a8-eda6a75e8cb0",
   "metadata": {},
   "outputs": [
    {
     "name": "stdout",
     "output_type": "stream",
     "text": [
      "Processing chest_acc...\n",
      "Processing chest_ecg...\n",
      "Processing chest_eda...\n",
      "Processing chest_emg...\n",
      "Processing chest_resp...\n",
      "Processing chest_temp...\n",
      "Processing wrist_acc...\n",
      "Processing wrist_bvp...\n",
      "Processing wrist_eda...\n",
      "Processing wrist_temp...\n"
     ]
    },
    {
     "data": {
      "text/html": [
       "<div>\n",
       "<style scoped>\n",
       "    .dataframe tbody tr th:only-of-type {\n",
       "        vertical-align: middle;\n",
       "    }\n",
       "\n",
       "    .dataframe tbody tr th {\n",
       "        vertical-align: top;\n",
       "    }\n",
       "\n",
       "    .dataframe thead th {\n",
       "        text-align: right;\n",
       "    }\n",
       "</style>\n",
       "<table border=\"1\" class=\"dataframe\">\n",
       "  <thead>\n",
       "    <tr style=\"text-align: right;\">\n",
       "      <th></th>\n",
       "      <th>subject</th>\n",
       "      <th>modality</th>\n",
       "      <th>label</th>\n",
       "      <th>mean</th>\n",
       "      <th>std</th>\n",
       "      <th>min</th>\n",
       "      <th>max</th>\n",
       "      <th>mode</th>\n",
       "      <th>median</th>\n",
       "    </tr>\n",
       "  </thead>\n",
       "  <tbody>\n",
       "    <tr>\n",
       "      <th>0</th>\n",
       "      <td>S10</td>\n",
       "      <td>chest_acc</td>\n",
       "      <td>1</td>\n",
       "      <td>0.260290</td>\n",
       "      <td>0.458175</td>\n",
       "      <td>-0.2144</td>\n",
       "      <td>0.9002</td>\n",
       "      <td>0.8898</td>\n",
       "      <td>0.0842</td>\n",
       "    </tr>\n",
       "    <tr>\n",
       "      <th>1</th>\n",
       "      <td>S10</td>\n",
       "      <td>chest_acc</td>\n",
       "      <td>1</td>\n",
       "      <td>0.258510</td>\n",
       "      <td>0.457711</td>\n",
       "      <td>-0.2256</td>\n",
       "      <td>0.8952</td>\n",
       "      <td>0.0846</td>\n",
       "      <td>0.0846</td>\n",
       "    </tr>\n",
       "    <tr>\n",
       "      <th>2</th>\n",
       "      <td>S10</td>\n",
       "      <td>chest_acc</td>\n",
       "      <td>1</td>\n",
       "      <td>0.259217</td>\n",
       "      <td>0.457695</td>\n",
       "      <td>-0.2198</td>\n",
       "      <td>0.8954</td>\n",
       "      <td>0.8882</td>\n",
       "      <td>0.0858</td>\n",
       "    </tr>\n",
       "    <tr>\n",
       "      <th>3</th>\n",
       "      <td>S10</td>\n",
       "      <td>chest_acc</td>\n",
       "      <td>1</td>\n",
       "      <td>0.255446</td>\n",
       "      <td>0.461250</td>\n",
       "      <td>-0.2312</td>\n",
       "      <td>0.8978</td>\n",
       "      <td>0.8882</td>\n",
       "      <td>0.0816</td>\n",
       "    </tr>\n",
       "    <tr>\n",
       "      <th>4</th>\n",
       "      <td>S10</td>\n",
       "      <td>chest_acc</td>\n",
       "      <td>1</td>\n",
       "      <td>0.251376</td>\n",
       "      <td>0.463228</td>\n",
       "      <td>-0.2438</td>\n",
       "      <td>0.8920</td>\n",
       "      <td>0.8846</td>\n",
       "      <td>0.0842</td>\n",
       "    </tr>\n",
       "  </tbody>\n",
       "</table>\n",
       "</div>"
      ],
      "text/plain": [
       "  subject   modality  label      mean       std     min     max    mode  \\\n",
       "0     S10  chest_acc      1  0.260290  0.458175 -0.2144  0.9002  0.8898   \n",
       "1     S10  chest_acc      1  0.258510  0.457711 -0.2256  0.8952  0.0846   \n",
       "2     S10  chest_acc      1  0.259217  0.457695 -0.2198  0.8954  0.8882   \n",
       "3     S10  chest_acc      1  0.255446  0.461250 -0.2312  0.8978  0.8882   \n",
       "4     S10  chest_acc      1  0.251376  0.463228 -0.2438  0.8920  0.8846   \n",
       "\n",
       "   median  \n",
       "0  0.0842  \n",
       "1  0.0846  \n",
       "2  0.0858  \n",
       "3  0.0816  \n",
       "4  0.0842  "
      ]
     },
     "execution_count": 28,
     "metadata": {},
     "output_type": "execute_result"
    }
   ],
   "source": [
    "# Final output DataFrame\n",
    "all_chunks = []\n",
    "\n",
    "for file in modality_files:\n",
    "    file_path = os.path.join(data_dir, file)\n",
    "    if os.path.exists(file_path):\n",
    "        df = pd.read_csv(file_path)\n",
    "        modality = file.replace(\"df_\", \"\").replace(\".csv\", \"\")\n",
    "        print(f\"Processing {modality}...\")\n",
    "        chunked = chunk_and_compute_stats(df, modality)\n",
    "        all_chunks.append(chunked)\n",
    "    else:\n",
    "        print(f\"File not found: {file_path}\")\n",
    "\n",
    "# Combine all\n",
    "final_df = pd.concat(all_chunks, ignore_index=True)\n",
    "final_df.head()"
   ]
  },
  {
   "cell_type": "markdown",
   "id": "5e1785e6-8b5a-4f1c-9336-65dd8fd38a06",
   "metadata": {},
   "source": [
    "### Merging the 2 dataframes"
   ]
  },
  {
   "cell_type": "code",
   "execution_count": 30,
   "id": "bda23686-0139-48f9-b50d-87eb290f6eba",
   "metadata": {},
   "outputs": [
    {
     "name": "stdout",
     "output_type": "stream",
     "text": [
      "  subject   modality  label      mean       std     min     max    mode  \\\n",
      "0     S10  chest_acc      1  0.260290  0.458175 -0.2144  0.9002  0.8898   \n",
      "1     S10  chest_acc      1  0.258510  0.457711 -0.2256  0.8952  0.0846   \n",
      "2     S10  chest_acc      1  0.259217  0.457695 -0.2198  0.8954  0.8882   \n",
      "3     S10  chest_acc      1  0.255446  0.461250 -0.2312  0.8978  0.8882   \n",
      "4     S10  chest_acc      1  0.251376  0.463228 -0.2438  0.8920  0.8846   \n",
      "\n",
      "   median  age  ...  gender_male  gender_female  dominant_right  \\\n",
      "0  0.0842   28  ...            1              0               1   \n",
      "1  0.0846   28  ...            1              0               1   \n",
      "2  0.0858   28  ...            1              0               1   \n",
      "3  0.0816   28  ...            1              0               1   \n",
      "4  0.0842   28  ...            1              0               1   \n",
      "\n",
      "   dominant_left  coffee_today  coffee_last_hour  sports_today  smoker  \\\n",
      "0              0             0                 0             0       0   \n",
      "1              0             0                 0             0       0   \n",
      "2              0             0                 0             0       0   \n",
      "3              0             0                 0             0       0   \n",
      "4              0             0                 0             0       0   \n",
      "\n",
      "   smoked_last_hour  ill_today  \n",
      "0                 0          0  \n",
      "1                 0          0  \n",
      "2                 0          0  \n",
      "3                 0          0  \n",
      "4                 0          0  \n",
      "\n",
      "[5 rows x 22 columns]\n"
     ]
    }
   ],
   "source": [
    "survey_df= pd.read_csv('wesad_survey.csv/wesad_survey.csv')\n",
    "\n",
    "merged_df = final_df.merge(survey_df, on='subject', how='left')\n",
    "\n",
    "merged_df.to_csv('wesad_merged_df.csv', index=False)\n",
    "print(merged_df.head())\n",
    "\n"
   ]
  },
  {
   "cell_type": "markdown",
   "id": "0c9256e7-143e-4456-8b73-be0f1cddddf6",
   "metadata": {},
   "source": [
    "### Merge with PANAS too"
   ]
  },
  {
   "cell_type": "code",
   "execution_count": 3,
   "id": "4c5a74f5-d2fc-48e4-9d5d-48274641f414",
   "metadata": {},
   "outputs": [
    {
     "name": "stdout",
     "output_type": "stream",
     "text": [
      "Merged dataframe shape: (773832, 62)\n",
      "Sample columns: ['subject', 'modality', 'label', 'mean', 'std', 'min', 'max', 'mode', 'median', 'age', 'height (cm)', 'weight (kg)', 'gender_male', 'gender_female', 'dominant_right', 'dominant_left', 'coffee_today', 'coffee_last_hour', 'sports_today', 'smoker', 'smoked_last_hour', 'ill_today', 'condition_id', 'condition_name', 'panas_active', 'panas_distressed', 'panas_interested', 'panas_inspired', 'panas_annoyed', 'panas_strong', 'panas_guilty', 'panas_scared', 'panas_hostile', 'panas_excited', 'panas_proud', 'panas_irritable', 'panas_enthusiastic', 'panas_ashamed', 'panas_alert', 'panas_nervous', 'panas_determined', 'panas_attentive', 'panas_jittery', 'panas_afraid', 'panas_stressed', 'panas_frustrated', 'panas_happy', 'panas_sad', 'stai_i_feel_at_ease', 'stai_i_feel_nervous', 'stai_i_am_jittery', 'stai_i_am_relaxed', 'stai_i_am_worried', 'stai_i_feel_pleasant', 'sam_valence', 'sam_arousal', 'sssq_committed_to_goals', 'sssq_wanted_to_succeed', 'sssq_motivated', 'sssq_reflected_about_self', 'sssq_worried_about_others', 'sssq_concerned_about_impression']\n"
     ]
    }
   ],
   "source": [
    "import pandas as pd\n",
    "\n",
    "# Load previously merged sensor+survey DataFrame\n",
    "merged_df = pd.read_csv('wesad_merged_df.csv')\n",
    "\n",
    "# Load all questionnaires (contains PANAS and more)\n",
    "questionnaire_df = pd.read_csv('all_questionnaires.csv')\n",
    "\n",
    "# Merge on subject/subject_id\n",
    "merged_full_df = pd.merge(\n",
    "    merged_df,\n",
    "    questionnaire_df,\n",
    "    left_on='subject',\n",
    "    right_on='subject_id',\n",
    "    how='left'\n",
    ")\n",
    "\n",
    "merged_full_df = merged_full_df.drop(columns=['subject_id'])\n",
    "\n",
    "\n",
    "merged_full_df.to_csv('wesad_merged_with_questionnaires.csv', index=False)\n",
    "\n",
    "print(\"Merged dataframe shape:\", merged_full_df.shape)\n",
    "print(\"Sample columns:\", merged_full_df.columns.tolist())"
   ]
  },
  {
   "cell_type": "markdown",
   "id": "cf7fa95f-e16f-41da-b72a-b29bd72f7c9d",
   "metadata": {},
   "source": [
    "### Random Forest: Senors + ALL Questionnaires"
   ]
  },
  {
   "cell_type": "code",
   "execution_count": 16,
   "id": "fcf392a0-0d60-4210-a839-ab21d1790ae9",
   "metadata": {},
   "outputs": [
    {
     "name": "stdout",
     "output_type": "stream",
     "text": [
      "Training accuracy: 0.9113970261604193\n",
      "\n",
      "Test accuracy: 0.7821499415250021\n"
     ]
    }
   ],
   "source": [
    "import pandas as pd\n",
    "from sklearn.ensemble import RandomForestClassifier\n",
    "from sklearn.model_selection import train_test_split\n",
    "from sklearn.metrics import classification_report, accuracy_score\n",
    "\n",
    "df = pd.read_csv('wesad_merged_with_questionnaires.csv')\n",
    "\n",
    "# target and feature columns \n",
    "target_col = 'label'\n",
    "non_feature_cols = [\n",
    "    'subject', 'modality', 'label', 'stress_binary', 'condition_id', 'condition_name'\n",
    "]\n",
    "feature_cols = [col for col in df.columns if col not in non_feature_cols]\n",
    "\n",
    "# get only numeric columns and fill in missing values with median \n",
    "X = df[feature_cols].select_dtypes(include='number')\n",
    "X = X.fillna(X.median())\n",
    "y = df[target_col]\n",
    "\n",
    "# test:20%, train:80%\n",
    "X_train, X_test, y_train, y_test = train_test_split(\n",
    "    X, y, test_size=0.2, stratify=y, random_state=42\n",
    ")\n",
    "\n",
    "# Random Forest \n",
    "rf = RandomForestClassifier(\n",
    "    n_estimators=100,\n",
    "    max_depth=25,\n",
    "    min_samples_leaf=2,\n",
    "    random_state=42,\n",
    "    n_jobs=-1)\n",
    "rf.fit(X_train, y_train)\n",
    "\n",
    "# Evaluate on training data\n",
    "y_train_pred = rf.predict(X_train)\n",
    "train_accuracy = accuracy_score(y_train, y_train_pred)\n",
    "print('Training accuracy:', train_accuracy)\n",
    "\n",
    "\n",
    "# Evaluate on test data\n",
    "y_test_pred = rf.predict(X_test)\n",
    "test_accuracy = accuracy_score(y_test, y_test_pred)\n",
    "print('\\nTest accuracy:', test_accuracy)\n",
    "\n"
   ]
  },
  {
   "cell_type": "markdown",
   "id": "e298315a-186a-4382-b7b8-e0ccab1849d0",
   "metadata": {},
   "source": [
    "### Post-model analysis"
   ]
  },
  {
   "cell_type": "code",
   "execution_count": 7,
   "id": "55ba2faf-73bd-4569-ae5b-abb82faf0c34",
   "metadata": {},
   "outputs": [
    {
     "name": "stderr",
     "output_type": "stream",
     "text": [
      "Matplotlib created a temporary cache directory at /scratch/tsanchez/job_40043468/matplotlib-757d2i2w because the default path (/home/jovyan/.cache/matplotlib) is not a writable directory; it is highly recommended to set the MPLCONFIGDIR environment variable to a writable directory, in particular to speed up the import of Matplotlib and to better support multiprocessing.\n"
     ]
    },
    {
     "data": {
      "image/png": "[encoded data removed]",
      "text/plain": [
       "<Figure size 700x600 with 2 Axes>"
      ]
     },
     "metadata": {},
     "output_type": "display_data"
    }
   ],
   "source": [
    "from sklearn.metrics import confusion_matrix\n",
    "import seaborn as sns\n",
    "import matplotlib.pyplot as plt\n",
    "\n",
    "\n",
    "# confusion matrix\n",
    "cm = confusion_matrix(y_test, y_test_pred)\n",
    "\n",
    "plt.figure(figsize=(7,6))\n",
    "sns.heatmap(cm, annot=True, fmt='d', cmap='Blues',\n",
    "            xticklabels=rf.classes_, yticklabels=rf.classes_)\n",
    "plt.xlabel('Predicted label')\n",
    "plt.ylabel('True label')\n",
    "plt.title('Confusion Matrix for Multiclass Classification')\n",
    "plt.tight_layout()\n",
    "plt.show()"
   ]
  },
  {
   "cell_type": "code",
   "execution_count": 8,
   "id": "c791254a-d4c6-43be-8fea-46866831d02c",
   "metadata": {},
   "outputs": [
    {
     "name": "stdout",
     "output_type": "stream",
     "text": [
      "              precision    recall  f1-score   support\n",
      "\n",
      "           1     0.7829    0.8936    0.8346     60756\n",
      "           2     0.8047    0.7445    0.7735     34366\n",
      "           3     0.7487    0.5371    0.6255     19204\n",
      "           4     0.7743    0.7630    0.7686     40441\n",
      "\n",
      "    accuracy                         0.7821    154767\n",
      "   macro avg     0.7777    0.7346    0.7506    154767\n",
      "weighted avg     0.7813    0.7821    0.7779    154767\n",
      "\n"
     ]
    }
   ],
   "source": [
    "from sklearn.metrics import classification_report\n",
    "\n",
    "# Print classification report\n",
    "print(classification_report(y_test, y_test_pred, digits=4))"
   ]
  },
  {
   "cell_type": "code",
   "execution_count": 14,
   "id": "318b810a-9db6-4529-bc83-f540dc121e22",
   "metadata": {},
   "outputs": [
    {
     "name": "stderr",
     "output_type": "stream",
     "text": [
      "/scratch/tsanchez/job_40043468/ipykernel_2240337/3219460029.py:6: FutureWarning: \n",
      "\n",
      "Passing `palette` without assigning `hue` is deprecated and will be removed in v0.14.0. Assign the `y` variable to `hue` and set `legend=False` for the same effect.\n",
      "\n",
      "  sns.barplot(x=importances[indices], y=feature_names, palette='pastel')\n"
     ]
    },
    {
     "data": {
      "image/png": "[encoded data removed]",
      "text/plain": [
       "<Figure size 1000x600 with 1 Axes>"
      ]
     },
     "metadata": {},
     "output_type": "display_data"
    }
   ],
   "source": [
    "importances = rf.feature_importances_\n",
    "indices = np.argsort(importances)[-15:][::-1]\n",
    "feature_names = X_train.columns[indices]\n",
    "\n",
    "plt.figure(figsize=(10,6))\n",
    "sns.barplot(x=importances[indices], y=feature_names, palette='pastel')\n",
    "plt.title('Top 15 Feature Importances')\n",
    "plt.xlabel('Importance')\n",
    "plt.ylabel('Feature')\n",
    "plt.tight_layout()\n",
    "plt.show()"
   ]
  }
 ],
 "metadata": {
  "kernelspec": {
   "display_name": "Python 3 (ipykernel)",
   "language": "python",
   "name": "python3"
  },
  "language_info": {
   "codemirror_mode": {
    "name": "ipython",
    "version": 3
   },
   "file_extension": ".py",
   "mimetype": "text/x-python",
   "name": "python",
   "nbconvert_exporter": "python",
   "pygments_lexer": "ipython3",
   "version": "3.11.6"
  }
 },
 "nbformat": 4,
 "nbformat_minor": 5
}
